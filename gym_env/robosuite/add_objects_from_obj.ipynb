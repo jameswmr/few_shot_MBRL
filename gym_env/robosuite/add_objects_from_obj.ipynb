{
 "cells": [
  {
   "cell_type": "code",
   "execution_count": 3,
   "metadata": {},
   "outputs": [
    {
     "name": "stdout",
     "output_type": "stream",
     "text": [
      "Object size (x, y, z): [0.34934261 0.088      0.03955791]\n"
     ]
    },
    {
     "data": {
      "text/plain": [
       "array([0.34934261, 0.088     , 0.03955791])"
      ]
     },
     "execution_count": 3,
     "metadata": {},
     "output_type": "execute_result"
    }
   ],
   "source": [
    "\n",
    "import trimesh\n",
    "\n",
    "def obj_to_stl(obj_file, stl_file):\n",
    "    # Load the OBJ file using trimesh\n",
    "    mesh = trimesh.load(obj_file, file_type='obj')\n",
    "\n",
    "    # Export the mesh as an STL file\n",
    "    mesh.export(stl_file)\n",
    "    print(f\"STL file saved as {stl_file}\")\n",
    "\n",
    "def get_object_size(obj_file):\n",
    "    # Load the OBJ file using trimesh\n",
    "    mesh = trimesh.load(obj_file, file_type='obj')\n",
    "    \n",
    "    # Get the bounding box of the mesh\n",
    "    bounding_box = mesh.bounds\n",
    "\n",
    "    # Calculate the size in each dimension\n",
    "    size = bounding_box[1] - bounding_box[0]  # [x_size, y_size, z_size]\n",
    "\n",
    "    print(f\"Object size (x, y, z): {size}\")\n",
    "    return size\n",
    "\n",
    "# File paths\n",
    "obj_file = '/home/xilun/AdaptSim/asset/spatula_long/spatula_oxo_nylon_square_issue7322_low.obj'  # Your OBJ file\n",
    "stl_file = '/home/xilun/Sim2Real_DT/gym_env/robosuite/models/assets/objects/meshes/spatula.stl'  # Desired STL output file\n",
    "\n",
    "# Convert OBJ to STL\n",
    "# obj_to_stl(obj_file, stl_file)\n",
    "get_object_size(obj_file)\n"
   ]
  }
 ],
 "metadata": {
  "kernelspec": {
   "display_name": "decision-transformer-gym",
   "language": "python",
   "name": "python3"
  },
  "language_info": {
   "codemirror_mode": {
    "name": "ipython",
    "version": 3
   },
   "file_extension": ".py",
   "mimetype": "text/x-python",
   "name": "python",
   "nbconvert_exporter": "python",
   "pygments_lexer": "ipython3",
   "version": "3.8.5"
  }
 },
 "nbformat": 4,
 "nbformat_minor": 2
}
